{
 "cells": [
  {
   "cell_type": "code",
   "execution_count": null,
   "metadata": {},
   "outputs": [],
   "source": [
    "import pandas as pd\n",
    "import numpy as np\n",
    "import matplotlib.pyplot as plt\n",
    "import yahooquery as yq\n",
    "\n",
    "from keras.models import Sequential\n",
    "from keras.layers import Dense, Dropout, LSTM\n",
    "from sklearn.preprocessing import MinMaxScaler\n",
    "from keras.callbacks import EarlyStopping, ReduceLROnPlateau, ModelCheckpoint\n"
   ]
  },
  {
   "cell_type": "code",
   "execution_count": null,
   "metadata": {},
   "outputs": [],
   "source": [
    "emp = pd.read_csv('D:\\what\\ibovpred\\IBOVDia_10-07-23.csv', sep=';', encoding='latin-1')\n",
    "emp = emp['Código'] + '.SA'\n",
    "emp = emp.iloc[0:86]"
   ]
  },
  {
   "cell_type": "code",
   "execution_count": null,
   "metadata": {},
   "outputs": [],
   "source": [
    "# Fetch historical data for each stock\n",
    "stock_data = []\n",
    "stock_dataAux = []\n",
    "\n",
    "stock_dataAux = pd.DataFrame(stock_dataAux)\n",
    "\n",
    "for symbol in emp:\n",
    "    stock_data = yq.Ticker(symbol).history(period='2y', interval='1d')['close']\n",
    "    stock_data = pd.DataFrame(stock_data)\n",
    "    stock_data.reset_index(inplace=True)\n",
    "    stock_dataAux = pd.concat([stock_dataAux, stock_data], axis=1)\n",
    "    \n",
    "stock_dataAux = stock_dataAux['close']\n",
    "stock_dataAux.columns = emp\n",
    "stock_dataAux"
   ]
  },
  {
   "cell_type": "code",
   "execution_count": null,
   "metadata": {},
   "outputs": [],
   "source": [
    "#IBOV data\n",
    "ibov = yq.Ticker('^BVSP').history(period='2y', interval='1d')['close']\n",
    "ibov = pd.DataFrame(ibov)\n",
    "ibov.reset_index(inplace=True)\n",
    "data = pd.concat([ibov, stock_dataAux], axis=1)\n",
    "\n",
    "data = data.iloc[:, 1:87]\n",
    "#Renaming the close column to ibov\n",
    "\n",
    "data.rename(columns={'close': 'ibov'}, inplace=True)\n",
    "\n",
    "data.shape"
   ]
  },
  {
   "cell_type": "code",
   "execution_count": null,
   "metadata": {},
   "outputs": [],
   "source": [
    "import numpy as np\n",
    "from sklearn.preprocessing import MinMaxScaler\n",
    "data_treinamento = data.iloc[:, 2:86].values\n",
    "\n",
    "normalizador = MinMaxScaler(feature_range=(0,1))\n",
    "data_treinamento_normalizada = normalizador.fit_transform(data_treinamento)\n",
    "\n",
    "normalizador_previsao = MinMaxScaler(feature_range=(0,1))\n",
    "normalizador_previsao.fit_transform(data_treinamento[:,1:2])"
   ]
  },
  {
   "cell_type": "code",
   "execution_count": null,
   "metadata": {},
   "outputs": [],
   "source": [
    "previsores = []\n",
    "preco_real = []\n",
    "\n",
    "for i in range(15, 316):\n",
    "    previsores.append(data_treinamento_normalizada[i-15:i, :])\n",
    "    preco_real.append(data_treinamento_normalizada[i, 0])\n",
    "previsores, preco_real = np.array(previsores), np.array(preco_real)\n",
    "\n",
    "# Validate and reshape the input shape of previsores\n",
    "num_samples, timesteps, num_features = previsores.shape\n",
    "previsores_reshaped = previsores.reshape(num_samples, timesteps, num_features)\n",
    "\n"
   ]
  },
  {
   "cell_type": "code",
   "execution_count": null,
   "metadata": {},
   "outputs": [],
   "source": [
    "regressor = Sequential()\n",
    "\n",
    "regressor.add(LSTM(units = 100, return_sequences = True, input_shape = (previsores.shape[1], 84)))\n",
    "regressor.add(Dropout(0.3))\n",
    "\n",
    "regressor.add(LSTM(units = 50, return_sequences = True))\n",
    "regressor.add(Dropout(0.3))\n",
    "\n",
    "regressor.add(LSTM(units = 50, return_sequences = True))\n",
    "regressor.add(Dropout(0.3))\n",
    "\n",
    "regressor.add(LSTM(units = 50))\n",
    "regressor.add(Dropout(0.3))\n",
    "\n",
    "regressor.add(Dense(units = 1, activation = 'sigmoid'))\n",
    "\n",
    "regressor.compile(optimizer = 'adam', loss = 'mean_squared_error', metrics = ['mean_absolute_error'])\n",
    "\n",
    "es = EarlyStopping(monitor='loss', min_delta=1e-10, patience=10, verbose=1)\n",
    "rlr = ReduceLROnPlateau(monitor='loss', factor=0.2, patience=5, verbose=1)\n",
    "mcp = ModelCheckpoint(filepath='pesos.h5', monitor='loss', save_best_only=True, verbose=1)\n",
    "\n",
    "regressor.fit(previsores, preco_real, epochs = 100, batch_size = 32, callbacks=[es, rlr, mcp])\n",
    "\n",
    "regressor.save_weights('regressor_ibov.h5')\n"
   ]
  }
 ],
 "metadata": {
  "kernelspec": {
   "display_name": "Python 3",
   "language": "python",
   "name": "python3"
  },
  "language_info": {
   "codemirror_mode": {
    "name": "ipython",
    "version": 3
   },
   "file_extension": ".py",
   "mimetype": "text/x-python",
   "name": "python",
   "nbconvert_exporter": "python",
   "pygments_lexer": "ipython3",
   "version": "3.9.13"
  },
  "orig_nbformat": 4
 },
 "nbformat": 4,
 "nbformat_minor": 2
}
